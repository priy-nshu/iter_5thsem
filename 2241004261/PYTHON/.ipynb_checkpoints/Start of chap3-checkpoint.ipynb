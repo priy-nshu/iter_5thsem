{
 "cells": [
  {
   "cell_type": "code",
   "execution_count": 6,
   "id": "971a0f4f",
   "metadata": {},
   "outputs": [
    {
     "name": "stdout",
     "output_type": "stream",
     "text": [
      "p r o g r a m m i n g "
     ]
    }
   ],
   "source": [
    "for character in\"programming\":\n",
    "    print(character,end=' ')"
   ]
  },
  {
   "cell_type": "code",
   "execution_count": 13,
   "id": "fd080be3",
   "metadata": {},
   "outputs": [
    {
     "name": "stdout",
     "output_type": "stream",
     "text": [
      "10 ; 20 ; 30\n",
      "10 ; 20 ; 30\n",
      "10 ; 20 ; 30\n",
      "10 ; 20 ; 30\n",
      "10 ; 20 ; 30\n",
      "10 ; 20 ; 30\n",
      "10 ; 20 ; 30\n",
      "10 ; 20 ; 30\n",
      "10 ; 20 ; 30\n",
      "10 ; 20 ; 30\n",
      "10 ; 20 ; 30\n"
     ]
    }
   ],
   "source": [
    "for character in\"programming\":\n",
    "    print(10,20,30,sep=' ; ')"
   ]
  },
  {
   "cell_type": "markdown",
   "id": "50bc9be5",
   "metadata": {},
   "source": []
  },
  {
   "cell_type": "code",
   "execution_count": 15,
   "id": "91772905",
   "metadata": {},
   "outputs": [
    {
     "name": "stdout",
     "output_type": "stream",
     "text": [
      "the value of x is 5\n"
     ]
    }
   ],
   "source": [
    "x=5\n",
    "print(f\"the value of x is {x}\") "
   ]
  },
  {
   "cell_type": "code",
   "execution_count": 19,
   "id": "8cb7bd28",
   "metadata": {},
   "outputs": [
    {
     "ename": "SyntaxError",
     "evalue": "invalid syntax (3562207769.py, line 1)",
     "output_type": "error",
     "traceback": [
      "\u001b[0;36m  Cell \u001b[0;32mIn[19], line 1\u001b[0;36m\u001b[0m\n\u001b[0;31m    ... WAP to find a\u001b[0m\n\u001b[0m        ^\u001b[0m\n\u001b[0;31mSyntaxError\u001b[0m\u001b[0;31m:\u001b[0m invalid syntax\n"
     ]
    }
   ],
   "source": [
    "# WAP to find a class average of grades..\n",
    "t=0\n",
    "gc=0\n",
    "print(\"enter -1 to stop\")\n",
    "grade=int(input(\"enter the grade \"))\n",
    "while grade!= -1:\n",
    "    t=t+grade\n",
    "    gc=gc+1\n",
    "    grade=int(input(\"enter the grade \"))\n",
    "avg=t/gc\n",
    "print(f\"Class average is {avg}\")"
   ]
  },
  {
   "cell_type": "code",
   "execution_count": null,
   "id": "f9ee3be1",
   "metadata": {},
   "outputs": [],
   "source": [
    "#WAP to print from 1 to 10 using for\n",
    "#1. use break, 2. Use continue"
   ]
  },
  {
   "cell_type": "code",
   "execution_count": 22,
   "id": "8974ac10",
   "metadata": {},
   "outputs": [
    {
     "name": "stdout",
     "output_type": "stream",
     "text": [
      "1\n",
      "2\n",
      "3\n",
      "4\n",
      "5\n"
     ]
    }
   ],
   "source": [
    "for i in range (1,10):\n",
    "    if(i==6):\n",
    "        break\n",
    "    print(i)"
   ]
  },
  {
   "cell_type": "code",
   "execution_count": 24,
   "id": "05b3fbd6",
   "metadata": {},
   "outputs": [
    {
     "name": "stdout",
     "output_type": "stream",
     "text": [
      "1\n",
      "2\n",
      "3\n",
      "4\n",
      "5\n",
      "7\n",
      "8\n",
      "9\n",
      "10\n"
     ]
    }
   ],
   "source": [
    "for i in range (1,11):\n",
    "    if(i==6):\n",
    "        continue\n",
    "    print(i)"
   ]
  },
  {
   "cell_type": "code",
   "execution_count": 28,
   "id": "1337825a",
   "metadata": {},
   "outputs": [
    {
     "name": "stdout",
     "output_type": "stream",
     "text": [
      "94.625\n",
      "98.0\n",
      "98\n"
     ]
    }
   ],
   "source": [
    "#<Central Tendecies>\n",
    "import statistics\n",
    "grades=[90,98,99,87,86,100,98,99]\n",
    "print(statistics.mean(grades))\n",
    "print(statistics.median(grades))\n",
    "print(statistics.mode(grades))"
   ]
  },
  {
   "cell_type": "code",
   "execution_count": 29,
   "id": "78817c63",
   "metadata": {},
   "outputs": [
    {
     "data": {
      "text/plain": [
       "25"
      ]
     },
     "execution_count": 29,
     "metadata": {},
     "output_type": "execute_result"
    }
   ],
   "source": [
    "#Function Chapter-3\n",
    "def square(number):\n",
    "    return number**2\n",
    "square(5)"
   ]
  },
  {
   "cell_type": "code",
   "execution_count": 30,
   "id": "588d1b17",
   "metadata": {},
   "outputs": [
    {
     "name": "stdout",
     "output_type": "stream",
     "text": [
      "25\n"
     ]
    }
   ],
   "source": [
    "#NA,NR\n",
    "num=5\n",
    "print(num**2)\n"
   ]
  },
  {
   "cell_type": "code",
   "execution_count": 31,
   "id": "a211eef1",
   "metadata": {},
   "outputs": [
    {
     "name": "stdout",
     "output_type": "stream",
     "text": [
      "25\n"
     ]
    }
   ],
   "source": [
    "#A,NR\n",
    "def square(number):\n",
    "    print(number**2)\n",
    "square(5)"
   ]
  },
  {
   "cell_type": "code",
   "execution_count": 41,
   "id": "23815650",
   "metadata": {},
   "outputs": [
    {
     "data": {
      "text/plain": [
       "25"
      ]
     },
     "execution_count": 41,
     "metadata": {},
     "output_type": "execute_result"
    }
   ],
   "source": [
    "#NA,R\n",
    "n=5\n",
    "def square():\n",
    "    return num**2\n",
    "square()"
   ]
  },
  {
   "cell_type": "code",
   "execution_count": 55,
   "id": "48c407dd",
   "metadata": {},
   "outputs": [
    {
     "name": "stdout",
     "output_type": "stream",
     "text": [
      "1 3 6 2 4 3 6 6 1 4 "
     ]
    }
   ],
   "source": [
    "#RNG\n",
    "import random\n",
    "random.seed(43)\n",
    "for roll in range(10):\n",
    "    print(random.randrange(1,7),end=' ')"
   ]
  },
  {
   "cell_type": "code",
   "execution_count": 56,
   "id": "fb45a6a9",
   "metadata": {},
   "outputs": [
    {
     "name": "stdout",
     "output_type": "stream",
     "text": [
      "26\n"
     ]
    }
   ],
   "source": [
    "x=2\n",
    "print((x**3)+(2*x**2)+(3*x)+4)\n"
   ]
  },
  {
   "cell_type": "code",
   "execution_count": 57,
   "id": "9078f2b9",
   "metadata": {},
   "outputs": [
    {
     "name": "stdout",
     "output_type": "stream",
     "text": [
      "False\n"
     ]
    }
   ],
   "source": [
    "a=1.21\n",
    "b=1.2\n",
    "c=1.22\n",
    "print((a<b)or(not(c==b)and(c<a)))"
   ]
  },
  {
   "cell_type": "code",
   "execution_count": 59,
   "id": "08d18d37",
   "metadata": {},
   "outputs": [
    {
     "name": "stdout",
     "output_type": "stream",
     "text": [
      "3105.8482083442123\n",
      "9646.293093274951\n",
      "29959.92212091116\n"
     ]
    }
   ],
   "source": [
    "p=1000\n",
    "r=.12\n",
    "for n in [10,20,30]:\n",
    "    a=p*(1+r)**n\n",
    "    print(a)"
   ]
  },
  {
   "cell_type": "code",
   "execution_count": null,
   "id": "7a8eb7a5",
   "metadata": {},
   "outputs": [],
   "source": []
  }
 ],
 "metadata": {
  "kernelspec": {
   "display_name": "Python 3 (ipykernel)",
   "language": "python",
   "name": "python3"
  },
  "language_info": {
   "codemirror_mode": {
    "name": "ipython",
    "version": 3
   },
   "file_extension": ".py",
   "mimetype": "text/x-python",
   "name": "python",
   "nbconvert_exporter": "python",
   "pygments_lexer": "ipython3",
   "version": "3.11.4"
  }
 },
 "nbformat": 4,
 "nbformat_minor": 5
}
