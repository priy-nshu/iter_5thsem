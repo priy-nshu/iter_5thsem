{
 "cells": [
  {
   "cell_type": "code",
   "execution_count": 13,
   "id": "978bf646",
   "metadata": {},
   "outputs": [
    {
     "name": "stdout",
     "output_type": "stream",
     "text": [
      "[1, 2, 3] [4, 5]\n"
     ]
    }
   ],
   "source": [
    "list1=list([1,2,3])\n",
    "list2=[4,5]\n",
    "print(list1,list2)"
   ]
  },
  {
   "cell_type": "code",
   "execution_count": 14,
   "id": "6f43baae",
   "metadata": {},
   "outputs": [
    {
     "name": "stdout",
     "output_type": "stream",
     "text": [
      "[1, 2, 3, 3]\n"
     ]
    }
   ],
   "source": [
    "list1.append(3)\n",
    "print(list1)"
   ]
  },
  {
   "cell_type": "code",
   "execution_count": 15,
   "id": "b8c859d1",
   "metadata": {},
   "outputs": [
    {
     "name": "stdout",
     "output_type": "stream",
     "text": [
      "[1, 2, 3, 3, 5, 6]\n"
     ]
    }
   ],
   "source": [
    "list1.extend([5,6])\n",
    "print(list1)"
   ]
  },
  {
   "cell_type": "code",
   "execution_count": 16,
   "id": "cf8c8c9d",
   "metadata": {},
   "outputs": [
    {
     "name": "stdout",
     "output_type": "stream",
     "text": [
      "[1, 2, 3, 3, 5, 6, 10]\n"
     ]
    }
   ],
   "source": [
    "list1.insert(9,10)\n",
    "print(list1)"
   ]
  },
  {
   "cell_type": "code",
   "execution_count": 17,
   "id": "18f83a84",
   "metadata": {},
   "outputs": [
    {
     "name": "stdout",
     "output_type": "stream",
     "text": [
      "[1, 2, 3, 3, 5, 6]\n"
     ]
    }
   ],
   "source": [
    "list1.remove(10)\n",
    "print(list1)"
   ]
  },
  {
   "cell_type": "code",
   "execution_count": 18,
   "id": "e1295faa",
   "metadata": {},
   "outputs": [
    {
     "name": "stdout",
     "output_type": "stream",
     "text": [
      "[1, 2, 3, 3, 5]\n"
     ]
    }
   ],
   "source": [
    "list1.pop()\n",
    "print(list1)"
   ]
  },
  {
   "cell_type": "code",
   "execution_count": 19,
   "id": "72221a90",
   "metadata": {},
   "outputs": [
    {
     "name": "stdout",
     "output_type": "stream",
     "text": [
      "[1, 2, 3, 5]\n"
     ]
    }
   ],
   "source": [
    "list1.pop(2)\n",
    "print(list1)"
   ]
  },
  {
   "cell_type": "code",
   "execution_count": 20,
   "id": "7e993b68",
   "metadata": {},
   "outputs": [
    {
     "name": "stdout",
     "output_type": "stream",
     "text": [
      "[]\n"
     ]
    }
   ],
   "source": [
    "list1.clear()\n",
    "print(list1)"
   ]
  },
  {
   "cell_type": "code",
   "execution_count": 24,
   "id": "2a2c6315",
   "metadata": {},
   "outputs": [
    {
     "name": "stdout",
     "output_type": "stream",
     "text": [
      "0\n"
     ]
    }
   ],
   "source": [
    "\n",
    "print(list2.index(4))"
   ]
  },
  {
   "cell_type": "code",
   "execution_count": 26,
   "id": "74571ecf",
   "metadata": {},
   "outputs": [
    {
     "data": {
      "text/plain": [
       "1"
      ]
     },
     "execution_count": 26,
     "metadata": {},
     "output_type": "execute_result"
    }
   ],
   "source": [
    "list2.count(5)"
   ]
  },
  {
   "cell_type": "code",
   "execution_count": 27,
   "id": "aee4b388",
   "metadata": {},
   "outputs": [
    {
     "name": "stdout",
     "output_type": "stream",
     "text": [
      "[1, 4, 4, 5, 6, 7, 12, 56]\n"
     ]
    }
   ],
   "source": [
    "list1=[12,4,56,6,7,1,5,4]\n",
    "list1.sort()\n",
    "print(list1)"
   ]
  },
  {
   "cell_type": "code",
   "execution_count": 29,
   "id": "421de4d6",
   "metadata": {},
   "outputs": [
    {
     "name": "stdout",
     "output_type": "stream",
     "text": [
      "[56, 12, 7, 6, 5, 4, 4, 1]\n"
     ]
    }
   ],
   "source": [
    "list1=[12,4,56,6,7,1,5,4]\n",
    "list1.sort(reverse=True)\n",
    "print(list1)"
   ]
  },
  {
   "cell_type": "code",
   "execution_count": 30,
   "id": "600363f7",
   "metadata": {},
   "outputs": [
    {
     "name": "stdout",
     "output_type": "stream",
     "text": [
      "[1, 4, 4, 5, 6, 7, 12, 56]\n"
     ]
    }
   ],
   "source": [
    "list1.reverse()\n",
    "print(list1)"
   ]
  },
  {
   "cell_type": "code",
   "execution_count": 31,
   "id": "b6dd4851",
   "metadata": {},
   "outputs": [
    {
     "name": "stdout",
     "output_type": "stream",
     "text": [
      "[1, 4, 4, 5, 6, 7, 12, 56]\n"
     ]
    }
   ],
   "source": [
    "list2=list1.copy()\n",
    "print(list2)"
   ]
  },
  {
   "cell_type": "code",
   "execution_count": 32,
   "id": "dffa7b1c",
   "metadata": {},
   "outputs": [
    {
     "name": "stdout",
     "output_type": "stream",
     "text": [
      "True\n"
     ]
    }
   ],
   "source": [
    "print(1 in list1)\n"
   ]
  },
  {
   "cell_type": "code",
   "execution_count": 41,
   "id": "ebe4347e",
   "metadata": {},
   "outputs": [
    {
     "name": "stdout",
     "output_type": "stream",
     "text": [
      "[1, 2, 3] [4, 5]\n",
      "[1, 2, 3, 3]\n",
      "[1, 2, 3, 3, 5, 6]\n",
      "[1, 2, 3, 3, 5, 6, 10]\n",
      "[1, 2, 3, 3, 5, 6]\n",
      "[1, 2, 3, 3, 5]\n",
      "[1, 2, 3, 5]\n",
      "[]\n",
      "0\n",
      "[1, 4, 4, 5, 6, 7, 12, 56]\n",
      "[56, 12, 7, 6, 5, 4, 4, 1]\n",
      "[1, 4, 4, 5, 6, 7, 12, 56]\n",
      "[1, 4, 4, 5, 6, 7, 12, 56]\n",
      "True\n",
      "56\n",
      "1\n",
      "8\n",
      "[1, 4, 4, 5, 6, 7, 12, 56, 1, 4, 4, 5, 6, 7, 12, 56]\n",
      "95\n"
     ]
    }
   ],
   "source": [
    "list1=list([1,2,3])\n",
    "list2=[4,5]\n",
    "print(list1,list2)\n",
    "\n",
    "list1.append(3)\n",
    "print(list1)\n",
    "\n",
    "list1.extend([5,6])\n",
    "print(list1)\n",
    "\n",
    "list1.insert(9,10)\n",
    "print(list1)\n",
    "\n",
    "list1.remove(10)\n",
    "print(list1)\n",
    "\n",
    "list1.pop()\n",
    "print(list1)\n",
    "\n",
    "list1.pop(2)\n",
    "print(list1)\n",
    "\n",
    "list1.clear()\n",
    "print(list1)\n",
    "\n",
    "print(list2.index(4))\n",
    "\n",
    "list2.count(5)\n",
    "list1=[12,4,56,6,7,1,5,4]\n",
    "list1.sort()\n",
    "print(list1)\n",
    "\n",
    "list1=[12,4,56,6,7,1,5,4]\n",
    "list1.sort(reverse=True)\n",
    "\n",
    "print(list1)\n",
    "list1.reverse()\n",
    "\n",
    "print(list1)\n",
    "list2=list1.copy()\n",
    "print(list2)\n",
    "\n",
    "print(1 in list1)\n",
    "\n",
    "print(max(list1))\n",
    "\n",
    "print(min(list1))\n",
    "\n",
    "print(len(list1))\n",
    "\n",
    "print(list1+list2)\n",
    "\n",
    "sum=0\n",
    "for i in list2:\n",
    "    sum=sum+i\n",
    "print(sum)\n"
   ]
  },
  {
   "cell_type": "code",
   "execution_count": 4,
   "id": "618cb24a",
   "metadata": {},
   "outputs": [
    {
     "name": "stdout",
     "output_type": "stream",
     "text": [
      "(1, 3, 5) \n",
      " (1, 3, 5)\n",
      "5\n",
      "1\n",
      "1\n",
      "(1, 3, 5, 4, 5)\n",
      "(1, 3, 5, 1, 3, 5)\n",
      "True\n",
      "3 \tmax 5 \tmin 1 \t\n",
      "9\n"
     ]
    }
   ],
   "source": [
    "t1=tuple([1,3,5])#Immutable and hetrogeneous\n",
    "t2=(1,3,5)\n",
    "print(t1,\"\\n\",t2)\n",
    "\n",
    "print(t1[2])\n",
    "\n",
    "print(t1.index(3))\n",
    "\n",
    "print(t1.count(1))\n",
    "\n",
    "print(t1+(4,5))\n",
    "\n",
    "print(t1*2)\n",
    "\n",
    "print(1 in t1)\n",
    "\n",
    "print(len(t1),\"\\tmax\",max(t1),\"\\tmin\",min(t1),\"\\t\")\n",
    "n=sum(t1)\n",
    "print(n)"
   ]
  },
  {
   "cell_type": "code",
   "execution_count": 20,
   "id": "654b5591",
   "metadata": {},
   "outputs": [
    {
     "ename": "SyntaxError",
     "evalue": "invalid syntax (2148011009.py, line 18)",
     "output_type": "error",
     "traceback": [
      "\u001b[0;36m  Cell \u001b[0;32mIn[20], line 18\u001b[0;36m\u001b[0m\n\u001b[0;31m    print(del(l1[2]))\u001b[0m\n\u001b[0m          ^\u001b[0m\n\u001b[0;31mSyntaxError\u001b[0m\u001b[0;31m:\u001b[0m invalid syntax\n"
     ]
    }
   ],
   "source": [
    "#Slicing\n",
    "l1=[1,2,3,4,5,6,7,8,9]\n",
    "print(l1[2:6])\n",
    "print(l1[2:])\n",
    "print(l1[:3])\n",
    "print(l1[:])\n",
    "print(l1[2:6:2])\n",
    "print(l1[::-2])\n",
    "\n",
    "s=input(\"String:\")\n",
    "s=s.lower()\n",
    "s1=s[::-1]\n",
    "if(s==s1):\n",
    "    print(\"palin\\n\")\n",
    "else:\n",
    "    print(\"not\\n\")\n",
    "    \n",
    "del(l1[2])\n",
    "del(l1[-1])\n",
    "del(l1[2:4])"
   ]
  },
  {
   "cell_type": "code",
   "execution_count": null,
   "id": "95de184a",
   "metadata": {},
   "outputs": [],
   "source": []
  }
 ],
 "metadata": {
  "kernelspec": {
   "display_name": "Python 3 (ipykernel)",
   "language": "python",
   "name": "python3"
  },
  "language_info": {
   "codemirror_mode": {
    "name": "ipython",
    "version": 3
   },
   "file_extension": ".py",
   "mimetype": "text/x-python",
   "name": "python",
   "nbconvert_exporter": "python",
   "pygments_lexer": "ipython3",
   "version": "3.11.4"
  }
 },
 "nbformat": 4,
 "nbformat_minor": 5
}
