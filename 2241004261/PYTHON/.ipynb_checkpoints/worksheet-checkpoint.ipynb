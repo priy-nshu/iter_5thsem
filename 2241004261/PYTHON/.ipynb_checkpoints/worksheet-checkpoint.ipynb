{
 "cells": [
  {
   "cell_type": "code",
   "execution_count": 1,
   "id": "f582cbca",
   "metadata": {},
   "outputs": [
    {
     "name": "stdout",
     "output_type": "stream",
     "text": [
      "Hello World!\n",
      "Hello Again\n",
      "I like typing this.\n",
      "This is fun.\n",
      "Yay! Printing.\n",
      "I'd much rather you 'not'.\n",
      "I \"said\" do not touch this.\n"
     ]
    }
   ],
   "source": [
    "# Python program to print the required messages\n",
    "print(\"Hello World!\")\n",
    "print(\"Hello Again\")\n",
    "print(\"I like typing this.\")\n",
    "print(\"This is fun.\")\n",
    "print(\"Yay! Printing.\")\n",
    "print(\"I'd much rather you 'not'.\")\n",
    "print('I \"said\" do not touch this.')\n"
   ]
  },
  {
   "cell_type": "code",
   "execution_count": 7,
   "id": "4f6e5cbe",
   "metadata": {},
   "outputs": [
    {
     "name": "stdout",
     "output_type": "stream",
     "text": [
      "+---------------------------------------------------------------------------------------------------+\n",
      "|                                                                                                #### |\n",
      "|                                                                                                #### |\n",
      "|                                                                                                #### |\n",
      "|                                                                                                     |\n",
      "|                                                                                                     |\n",
      "|                                                                                           Priyanshu |\n",
      "|                                                                                  H.N:109, Baramunda |\n",
      "|                                                                                         Bhubaneswar |\n",
      "|                                                                                                     |\n",
      "+---------------------------------------------------------------------------------------------------+\n"
     ]
    }
   ],
   "source": [
    "# Python program to display name and address using formatted strings\n",
    "\n",
    "name = \"Priyanshu\"\n",
    "address_line_1 = \"H.N:109, Baramunda\"\n",
    "address_line_2 = \"Bhubaneswar\"\n",
    "hash_lines = \"####\"\n",
    "width = 101  # width of the output\n",
    "\n",
    "print(f\"+{'-' * (width - 2)}+\")\n",
    "print(f\"| {hash_lines:>{width-2}} |\")\n",
    "print(f\"| {hash_lines:>{width-2}} |\")\n",
    "print(f\"| {hash_lines:>{width-2}} |\")\n",
    "print(f\"| {' ':>{width-2}} |\")\n",
    "print(f\"| {' ':>{width-2}} |\")\n",
    "print(f\"| {name:>{width-2}} |\")\n",
    "print(f\"| {address_line_1:>{width-2}} |\")\n",
    "print(f\"| {address_line_2:>{width-2}} |\")\n",
    "print(f\"| {' ':>{width-2}} |\")\n",
    "print(f\"+{'-' * (width - 2)}+\")\n"
   ]
  },
  {
   "cell_type": "code",
   "execution_count": 8,
   "id": "24cc5a5b",
   "metadata": {},
   "outputs": [
    {
     "name": "stdout",
     "output_type": "stream",
     "text": [
      "TTTTTTTT       k      k \n",
      "    T          k     k     \n",
      "    T          k   k     \n",
      "    T          k  k     \n",
      "    T          k  k     \n",
      "    T          k    k  \n",
      "    T          k      k \n"
     ]
    }
   ],
   "source": [
    "# Python program to display initials in block letters\n",
    "\n",
    "print(\"TTTTTTTT       k      k \")\n",
    "print(\"    T          k     k     \")\n",
    "print(\"    T          k   k     \")\n",
    "print(\"    T          k  k     \")\n",
    "print(\"    T          k  k     \")\n",
    "print(\"    T          k    k  \")\n",
    "print(\"    T          k      k \")\n"
   ]
  },
  {
   "cell_type": "code",
   "execution_count": 9,
   "id": "f3320a23",
   "metadata": {},
   "outputs": [
    {
     "name": "stdout",
     "output_type": "stream",
     "text": [
      "    * \n",
      "   * * \n",
      "  * * * \n",
      " * * * * \n",
      "* * * * * \n"
     ]
    }
   ],
   "source": [
    "# Python program to print an equilateral triangle using stars\n",
    "\n",
    "# Define the number of rows for the triangle\n",
    "rows = 5\n",
    "\n",
    "# Loop to print each row\n",
    "for i in range(1, rows + 1):\n",
    "    # Print spaces for alignment\n",
    "    print(' ' * (rows - i), end='')\n",
    "    # Print stars with spaces between them\n",
    "    print('* ' * i)\n"
   ]
  },
  {
   "cell_type": "code",
   "execution_count": 11,
   "id": "6c3a6541",
   "metadata": {},
   "outputs": [
    {
     "name": "stdout",
     "output_type": "stream",
     "text": [
      "My Registration Number is: 2241004261 Year of Admission: 2022\n"
     ]
    }
   ],
   "source": [
    "regd_no = \"2241004261\"  \n",
    "year_of_admission = 2022  \n",
    "print(f\"My Registration Number is: {regd_no} Year of Admission: {year_of_admission}\")\n",
    "\n"
   ]
  },
  {
   "cell_type": "code",
   "execution_count": 12,
   "id": "dcdfbf16",
   "metadata": {},
   "outputs": [
    {
     "name": "stdout",
     "output_type": "stream",
     "text": [
      "This is room # 126\n",
      "e is close to 2.71828\n"
     ]
    }
   ],
   "source": [
    "room_number = 126\n",
    "e_value = 2.71828\n",
    "print(f\"This is room # {room_number}\")\n",
    "print(f\"e is close to {e_value}\")\n"
   ]
  },
  {
   "cell_type": "code",
   "execution_count": 16,
   "id": "6dc5ab54",
   "metadata": {},
   "outputs": [
    {
     "name": "stdout",
     "output_type": "stream",
     "text": [
      "6 5\n"
     ]
    }
   ],
   "source": [
    "a=5\n",
    "b=6\n",
    "c=a\n",
    "a=b\n",
    "b=c\n",
    "print(a,b)"
   ]
  },
  {
   "cell_type": "code",
   "execution_count": 17,
   "id": "24840401",
   "metadata": {},
   "outputs": [
    {
     "name": "stdout",
     "output_type": "stream",
     "text": [
      "6 5\n"
     ]
    }
   ],
   "source": [
    "a=5\n",
    "b=6\n",
    "a=a+b\n",
    "b=a-b\n",
    "a=a-b\n",
    "print(a,b)"
   ]
  },
  {
   "cell_type": "code",
   "execution_count": 20,
   "id": "8fc42421",
   "metadata": {},
   "outputs": [
    {
     "name": "stdout",
     "output_type": "stream",
     "text": [
      "Enter a degree in Celsius: 890\n",
      "890.0 Celsius is 1634.0 Fahrenheit\n"
     ]
    }
   ],
   "source": [
    "c = float(input(\"Enter a degree in Celsius: \"))\n",
    "f = (9 / 5) * c + 32\n",
    "print(f\"{c} Celsius is {f} Fahrenheit\")\n",
    "\n"
   ]
  },
  {
   "cell_type": "code",
   "execution_count": 21,
   "id": "eb427c6c",
   "metadata": {},
   "outputs": [
    {
     "name": "stdout",
     "output_type": "stream",
     "text": [
      "Enter the radius of the cylinder: 19\n",
      "Enter the length of the cylinder: 7\n",
      "Area: 1134.1149479459152\n",
      "Volume: 7938.804635621406\n"
     ]
    }
   ],
   "source": [
    "import math\n",
    "r = float(input(\"Enter the radius of the cylinder: \"))\n",
    "l = float(input(\"Enter the length of the cylinder: \"))\n",
    "a = r * r * math.pi\n",
    "v = a * l\n",
    "print(f\"Area: {a}\")\n",
    "print(f\"Volume: {v}\")\n",
    "\n"
   ]
  },
  {
   "cell_type": "code",
   "execution_count": 23,
   "id": "65c65bd8",
   "metadata": {},
   "outputs": [
    {
     "name": "stdout",
     "output_type": "stream",
     "text": [
      "feet45\n",
      "In meters 13.725\n"
     ]
    }
   ],
   "source": [
    "f=float(input(\"give feet:\"))\n",
    "print(\"In meters\",f * 0.305)"
   ]
  },
  {
   "cell_type": "code",
   "execution_count": 26,
   "id": "a9ac82dc",
   "metadata": {},
   "outputs": [
    {
     "name": "stdout",
     "output_type": "stream",
     "text": [
      "Enter a number between 0 and 1000: 999\n",
      "27\n"
     ]
    }
   ],
   "source": [
    "number = int(input(\"Enter a number between 0 and 1000: \"))\n",
    "s=0\n",
    "for i in str(number):\n",
    "    s=s+number%10\n",
    "    number=number//10\n",
    "print(s)"
   ]
  },
  {
   "cell_type": "code",
   "execution_count": 28,
   "id": "f6d99e43",
   "metadata": {},
   "outputs": [
    {
     "name": "stdout",
     "output_type": "stream",
     "text": [
      "Enter10\n",
      "Enter20\n",
      "('10', '20') ('10', '20')\n"
     ]
    }
   ],
   "source": [
    "a=b=input(\"Enter\"),input(\"Enter\")\n",
    "print(a,b)"
   ]
  },
  {
   "cell_type": "code",
   "execution_count": 30,
   "id": "5d963829",
   "metadata": {},
   "outputs": [
    {
     "name": "stdout",
     "output_type": "stream",
     "text": [
      "Enter the starting velocity (v0) in meters/second: 5\n",
      "Enter the ending velocity (v1) in meters/second: 50.9\n",
      "Enter the time span (t) in seconds: 4.5\n",
      "The average acceleration is 10.2 meters/second²\n"
     ]
    }
   ],
   "source": [
    "v0 = float(input(\"Enter the starting velocity (v0) in meters/second: \"))\n",
    "v1 = float(input(\"Enter the ending velocity (v1) in meters/second: \"))\n",
    "t = float(input(\"Enter the time span (t) in seconds: \"))\n",
    "\n",
    "average_acceleration = (v1 - v0) / t\n",
    "\n",
    "print(f\"The average acceleration is {average_acceleration} meters/second²\")\n"
   ]
  },
  {
   "cell_type": "code",
   "execution_count": 31,
   "id": "6ffa9613",
   "metadata": {},
   "outputs": [
    {
     "name": "stdout",
     "output_type": "stream",
     "text": [
      "Enter weight in pounds: 95.5\n",
      "Enter height in inches: 50\n",
      "BMI is 26.8573\n"
     ]
    }
   ],
   "source": [
    "weight_pounds = float(input(\"Enter weight in pounds: \"))\n",
    "height_inches = float(input(\"Enter height in inches: \"))\n",
    "\n",
    "weight_kg = weight_pounds * 0.45359237\n",
    "height_m = height_inches * 0.0254\n",
    "\n",
    "bmi = weight_kg / (height_m ** 2)\n",
    "\n",
    "print(f\"BMI is {bmi:.4f}\")\n"
   ]
  },
  {
   "cell_type": "code",
   "execution_count": 32,
   "id": "ce456ce4",
   "metadata": {},
   "outputs": [
    {
     "name": "stdout",
     "output_type": "stream",
     "text": [
      "Enter the side: 5.5\n",
      "The area of the hexagon is 78.5918\n"
     ]
    }
   ],
   "source": [
    "import math\n",
    "\n",
    "side_length = float(input(\"Enter the side: \"))\n",
    "area = (3 * math.sqrt(3) / 2) * (side_length ** 2)\n",
    "\n",
    "print(f\"The area of the hexagon is {area:.4f}\")\n"
   ]
  },
  {
   "cell_type": "code",
   "execution_count": 33,
   "id": "07acccc3",
   "metadata": {
    "scrolled": true
   },
   "outputs": [
    {
     "name": "stdout",
     "output_type": "stream",
     "text": [
      " a  b   pow(a, b)\n",
      " 1  2          1\n",
      " 2  3          8\n",
      " 3  4         81\n",
      " 4  5       1024\n",
      " 5  6      15625\n"
     ]
    }
   ],
   "source": [
    "print(\" a  b   pow(a, b)\")\n",
    "for a in range(1, 6):\n",
    "    b = a + 1\n",
    "    result = pow(a, b)\n",
    "    print(f\"{a:2} {b:2} {result:10}\")\n"
   ]
  },
  {
   "cell_type": "code",
   "execution_count": 40,
   "id": "c43fe697",
   "metadata": {},
   "outputs": [
    {
     "name": "stdout",
     "output_type": "stream",
     "text": [
      "Enter x1 and y1: 1.5 -3.4\n",
      "Enter x2 and y2: 4 5\n",
      "The distance between the two points is 8.8\n"
     ]
    }
   ],
   "source": [
    "import math\n",
    "\n",
    "x1, y1 = map(float, input(\"Enter x1 and y1: \").split())\n",
    "x2, y2 = map(float, input(\"Enter x2 and y2: \").split())\n",
    "\n",
    "distance = math.sqrt((x2 - x1) ** 2 + (y2 - y1) ** 2)\n",
    "\n",
    "print(f\"The distance between the two points is {distance:.1f}\")\n"
   ]
  },
  {
   "cell_type": "code",
   "execution_count": 38,
   "id": "664a8f07",
   "metadata": {
    "scrolled": true
   },
   "outputs": [
    {
     "name": "stdout",
     "output_type": "stream",
     "text": [
      "Enter x1: 1.5\n",
      "Enter y1: 3.4\n",
      "Enter x2: 4.6\n",
      "Enter y2: 5\n",
      "Enter x3: 9.5\n",
      "Enter y3: -3.4\n",
      "The area of the triangle is 16.9\n"
     ]
    }
   ],
   "source": [
    "import math\n",
    "\n",
    "x1 = float(input(\"Enter x1: \"))\n",
    "y1 = float(input(\"Enter y1: \"))\n",
    "x2 = float(input(\"Enter x2: \"))\n",
    "y2 = float(input(\"Enter y2: \"))\n",
    "x3 = float(input(\"Enter x3: \"))\n",
    "y3 = float(input(\"Enter y3: \"))\n",
    "\n",
    "a = math.sqrt((x2 - x1) ** 2 + (y2 - y1) ** 2)\n",
    "b = math.sqrt((x3 - x2) ** 2 + (y3 - y2) ** 2)\n",
    "c = math.sqrt((x1 - x3) ** 2 + (y1 - y3) ** 2)\n",
    "\n",
    "s = (a + b + c) / 2\n",
    "area = math.sqrt(s * (s - a) * (s - b) * (s - c))\n",
    "\n",
    "print(f\"The area of the triangle is {area:.1f}\")\n"
   ]
  },
  {
   "cell_type": "code",
   "execution_count": 2,
   "id": "05b99683",
   "metadata": {},
   "outputs": [
    {
     "name": "stdout",
     "output_type": "stream",
     "text": [
      "Enter the investment amount: 1000\n",
      "Enter the annual interest rate (in %): 3.25\n",
      "Enter the number of years: 1\n",
      "The future investment value is $1032.99\n"
     ]
    }
   ],
   "source": [
    "i = float(input(\"Enter the investment amount: \"))\n",
    "a = float(input(\"Enter the annual interest rate (in %): \")) / 100\n",
    "n = float(input(\"Enter the number of years: \"))\n",
    "\n",
    "\n",
    "m = a / 12\n",
    "f = i * (1 + m) ** (n * 12)\n",
    "\n",
    "print(f\"The future investment value is ${f:.2f}\")\n"
   ]
  },
  {
   "cell_type": "code",
   "execution_count": 1,
   "id": "ca93fe81",
   "metadata": {},
   "outputs": [
    {
     "name": "stdout",
     "output_type": "stream",
     "text": [
      "Enter the number of eggs: 1342\n",
      "Your number of eggs is 9 gross, 3 dozen, and 10.\n"
     ]
    }
   ],
   "source": [
    "t= int(input(\"Enter the number of eggs: \"))\n",
    "gross = t // 144\n",
    "r = t % 144\n",
    "dozen = r // 12\n",
    "leftover = r% 12\n",
    "\n",
    "print(f\"Your number of eggs is {gross} gross, {dozen} dozen, and {leftover}.\")\n"
   ]
  },
  {
   "cell_type": "code",
   "execution_count": 5,
   "id": "9fbcaa2a",
   "metadata": {},
   "outputs": [
    {
     "name": "stdout",
     "output_type": "stream",
     "text": [
      "Enter Minutes:100000000000000000\n",
      "100000000000000000 minutes is approximately 190258751902 years and 214 days.\n"
     ]
    }
   ],
   "source": [
    "m=int(input(\"Enter Minutes:\"))\n",
    "n=m\n",
    "y=m//(60 * 24 * 365)\n",
    "m=m%y\n",
    "d=m//(60 * 24)\n",
    "print(f\"{n} minutes is approximately {y} years and {d} days.\")"
   ]
  },
  {
   "cell_type": "code",
   "execution_count": 2,
   "id": "b6b7ff47",
   "metadata": {},
   "outputs": [
    {
     "name": "stdout",
     "output_type": "stream",
     "text": [
      "Rows5\n",
      "1\n",
      "     11\n",
      "          121\n",
      "               1331\n",
      "                    14641\n"
     ]
    }
   ],
   "source": [
    "r=int(input(\"Rows\"))\n",
    "for i in range (r):\n",
    "    print(\" \"*(r*i),end=\"\")\n",
    "    cr=1\n",
    "    for j in range(i+1):\n",
    "        print(cr,end=\"\")\n",
    "        if j<i:\n",
    "            cr=cr*(i-j)//(j+1)\n",
    "    print()\n",
    "        "
   ]
  },
  {
   "cell_type": "code",
   "execution_count": 7,
   "id": "4ee78609",
   "metadata": {},
   "outputs": [
    {
     "name": "stdout",
     "output_type": "stream",
     "text": [
      "Rows5\n",
      "1  \n",
      "     1  1  \n",
      "          1  2  1  \n",
      "               1  3  3  1  \n",
      "                    1  4  6  4  1  \n"
     ]
    }
   ],
   "source": [
    "r=int(input(\"Rows\"))\n",
    "for i in range (r):\n",
    "    print(\" \"*(r*i),end=\"\")\n",
    "    cr=1\n",
    "    for j in range(i+1):\n",
    "        print(cr,\" \",end=\"\")\n",
    "        if j<i:\n",
    "            cr=cr*(i-j)//(j+1)\n",
    "    print()"
   ]
  },
  {
   "cell_type": "code",
   "execution_count": null,
   "id": "5a3e6103",
   "metadata": {},
   "outputs": [],
   "source": []
  }
 ],
 "metadata": {
  "kernelspec": {
   "display_name": "Python 3 (ipykernel)",
   "language": "python",
   "name": "python3"
  },
  "language_info": {
   "codemirror_mode": {
    "name": "ipython",
    "version": 3
   },
   "file_extension": ".py",
   "mimetype": "text/x-python",
   "name": "python",
   "nbconvert_exporter": "python",
   "pygments_lexer": "ipython3",
   "version": "3.11.4"
  }
 },
 "nbformat": 4,
 "nbformat_minor": 5
}
