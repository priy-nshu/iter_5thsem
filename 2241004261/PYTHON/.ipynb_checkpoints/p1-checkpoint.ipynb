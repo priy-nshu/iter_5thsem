{
 "cells": [
  {
   "cell_type": "code",
   "execution_count": 13,
   "id": "9a9bb7aa",
   "metadata": {},
   "outputs": [],
   "source": [
    "x=5"
   ]
  },
  {
   "cell_type": "code",
   "execution_count": 14,
   "id": "91befd90",
   "metadata": {},
   "outputs": [
    {
     "name": "stdout",
     "output_type": "stream",
     "text": [
      "<class 'int'>\n"
     ]
    },
    {
     "data": {
      "text/plain": [
       "float"
      ]
     },
     "execution_count": 14,
     "metadata": {},
     "output_type": "execute_result"
    }
   ],
   "source": [
    "print(type(x))\n",
    "type(10.5)"
   ]
  },
  {
   "cell_type": "code",
   "execution_count": 9,
   "id": "40944454",
   "metadata": {},
   "outputs": [
    {
     "name": "stdout",
     "output_type": "stream",
     "text": [
      "105\n",
      "85\n",
      "950\n",
      "9.5\n",
      "9\n",
      "5\n",
      "59873693923837890625\n"
     ]
    }
   ],
   "source": [
    "a=95 \n",
    "b=10\n",
    "print(a+b)\n",
    "print(a-b)\n",
    "print(a*b)\n",
    "print(a/b)\n",
    "print(a//b)\n",
    "print(a%b)\n",
    "print(a**b)"
   ]
  },
  {
   "cell_type": "code",
   "execution_count": 18,
   "id": "8581a5bf",
   "metadata": {},
   "outputs": [
    {
     "name": "stdout",
     "output_type": "stream",
     "text": [
      "welcome\n",
      "to\n",
      "\"python\"\n"
     ]
    }
   ],
   "source": [
    "print(\"welcome\\nto\\n\\\"python\\\"\")"
   ]
  },
  {
   "cell_type": "code",
   "execution_count": 25,
   "id": "d5ee8d17",
   "metadata": {},
   "outputs": [
    {
     "name": "stdout",
     "output_type": "stream",
     "text": [
      "enter value 27\n",
      "you got: 30\n"
     ]
    }
   ],
   "source": [
    "marks=int(input(\"enter value \"))\n",
    "if(25<=marks<=29):\n",
    "       marks=30\n",
    "print(\"you got:\",marks)"
   ]
  },
  {
   "cell_type": "code",
   "execution_count": 28,
   "id": "6066bb38",
   "metadata": {},
   "outputs": [
    {
     "name": "stdout",
     "output_type": "stream",
     "text": [
      "enter value 43\n",
      "odd\n"
     ]
    }
   ],
   "source": [
    "v=int(input(\"enter value \"))\n",
    "if(v%2==0):\n",
    "    print(\"Even\")\n",
    "else:\n",
    "        print(\"odd\")"
   ]
  },
  {
   "cell_type": "code",
   "execution_count": 33,
   "id": "f4901302",
   "metadata": {},
   "outputs": [
    {
     "name": "stdout",
     "output_type": "stream",
     "text": [
      "12\n"
     ]
    }
   ],
   "source": [
    "a=12\n",
    "b=4\n",
    "c=7\n",
    "if(a>b):\n",
    "    if a>c:\n",
    "        print(a)\n",
    "    else:\n",
    "        print(c)\n",
    "else:\n",
    "    if b>c:\n",
    "        print (b)\n",
    "    else:\n",
    "         print(c)"
   ]
  },
  {
   "cell_type": "code",
   "execution_count": 37,
   "id": "80d742fb",
   "metadata": {},
   "outputs": [
    {
     "name": "stdout",
     "output_type": "stream",
     "text": [
      "enter value 76\n",
      "First\n"
     ]
    }
   ],
   "source": [
    "marks=int(input(\"enter value \"))\n",
    "if(marks>90):\n",
    "    print(\"outstanding\")\n",
    "elif(marks>80):\n",
    "    print(\"excellent\")\n",
    "elif(marks>60):\n",
    "    print(\"First\")\n",
    "elif(marks>50):\n",
    "    print(\"Second\")\n",
    "elif(marks>30):\n",
    "    print(\"Third\")\n",
    "else:\n",
    "    print(\"Fail\")"
   ]
  },
  {
   "cell_type": "code",
   "execution_count": 2,
   "id": "fd928b4e",
   "metadata": {},
   "outputs": [
    {
     "name": "stdout",
     "output_type": "stream",
     "text": [
      "enter value 6\n",
      "2.45\n"
     ]
    }
   ],
   "source": [
    "n=int(input(\"enter value \"))\n",
    "s=0\n",
    "\n",
    "while(n>0):\n",
    "    s=s+(1/n)\n",
    "    n-=1\n",
    "print(s)"
   ]
  },
  {
   "cell_type": "code",
   "execution_count": 8,
   "id": "f032e693",
   "metadata": {},
   "outputs": [
    {
     "name": "stdout",
     "output_type": "stream",
     "text": [
      "enter value 6\n",
      "1.0\n"
     ]
    }
   ],
   "source": [
    "n=int(input(\"enter value \"))\n",
    "s=0\n",
    "for n in range (1,n):\n",
    "    s=s+(1/n)\n",
    "    n-=1\n",
    "print(s)"
   ]
  },
  {
   "cell_type": "code",
   "execution_count": 6,
   "id": "9a642f17",
   "metadata": {},
   "outputs": [
    {
     "name": "stdout",
     "output_type": "stream",
     "text": [
      "Enter limit 100\n",
      "0\n",
      "1\n",
      "1\n",
      "2\n",
      "3\n",
      "5\n",
      "8\n",
      "13\n",
      "21\n",
      "34\n",
      "55\n",
      "89\n"
     ]
    }
   ],
   "source": [
    "first = 0\n",
    "second = 1\n",
    "num = int(input(\"Enter limit \"))\n",
    "print(first)\n",
    "print(second)\n",
    "for x in range(1,num):\n",
    "    third = first + second\n",
    "    print(third)\n",
    "    first=second\n",
    "    second=third\n",
    "    if first+second>num:\n",
    "        break"
   ]
  },
  {
   "cell_type": "code",
   "execution_count": 4,
   "id": "0734ba7b",
   "metadata": {},
   "outputs": [
    {
     "name": "stdout",
     "output_type": "stream",
     "text": [
      "Enter limit 100\n",
      "1\n",
      "2\n",
      "3\n",
      "4\n",
      "5\n",
      "6\n",
      "7\n",
      "8\n",
      "9\n",
      "10\n",
      "11\n",
      "12\n",
      "13\n",
      "14\n",
      "15\n",
      "16\n",
      "17\n",
      "18\n",
      "19\n",
      "20\n",
      "21\n",
      "22\n",
      "23\n",
      "24\n",
      "25\n",
      "26\n",
      "27\n",
      "28\n",
      "29\n",
      "30\n",
      "31\n",
      "32\n",
      "33\n",
      "34\n",
      "35\n",
      "36\n",
      "37\n",
      "38\n",
      "39\n",
      "40\n",
      "41\n",
      "42\n",
      "43\n",
      "44\n",
      "45\n",
      "46\n",
      "47\n",
      "48\n",
      "49\n",
      "50\n",
      "51\n",
      "52\n",
      "53\n",
      "54\n",
      "55\n",
      "56\n",
      "57\n",
      "58\n",
      "59\n",
      "60\n",
      "61\n",
      "62\n",
      "63\n",
      "64\n",
      "65\n",
      "66\n",
      "67\n",
      "68\n",
      "69\n",
      "70\n",
      "71\n",
      "72\n",
      "73\n",
      "74\n",
      "75\n",
      "76\n",
      "77\n",
      "78\n",
      "79\n",
      "80\n",
      "81\n",
      "82\n",
      "83\n",
      "84\n",
      "85\n",
      "86\n",
      "87\n",
      "88\n",
      "89\n",
      "90\n",
      "91\n",
      "92\n",
      "93\n",
      "94\n",
      "95\n",
      "96\n",
      "97\n",
      "98\n",
      "99\n"
     ]
    }
   ],
   "source": [
    "num = int(input(\"Enter limit \"))\n",
    "if num > 1:\n",
    "    for num in range(1, num):\n",
    "           for i in range(2, num//2):\n",
    "               if (num % i) == 0:\n",
    "                   continue\n",
    "           else:\n",
    "               print(num)"
   ]
  },
  {
   "cell_type": "code",
   "execution_count": null,
   "id": "b8cfd6bd",
   "metadata": {},
   "outputs": [],
   "source": []
  }
 ],
 "metadata": {
  "kernelspec": {
   "display_name": "Python 3 (ipykernel)",
   "language": "python",
   "name": "python3"
  },
  "language_info": {
   "codemirror_mode": {
    "name": "ipython",
    "version": 3
   },
   "file_extension": ".py",
   "mimetype": "text/x-python",
   "name": "python",
   "nbconvert_exporter": "python",
   "pygments_lexer": "ipython3",
   "version": "3.11.4"
  }
 },
 "nbformat": 4,
 "nbformat_minor": 5
}
