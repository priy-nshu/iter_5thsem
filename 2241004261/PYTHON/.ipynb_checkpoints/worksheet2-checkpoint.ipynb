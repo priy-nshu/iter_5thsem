{
 "cells": [
  {
   "cell_type": "code",
   "execution_count": 1,
   "id": "71240164",
   "metadata": {},
   "outputs": [
    {
     "name": "stdout",
     "output_type": "stream",
     "text": [
      "Enter height in feet:5.9\n",
      "Short\n"
     ]
    }
   ],
   "source": [
    "a=float(input(\"Enter height in feet:\"))\n",
    "if(a>=6):\n",
    "    print(\"the person is tall\")\n",
    "else:\n",
    "    print(\"Short\")"
   ]
  },
  {
   "cell_type": "code",
   "execution_count": 2,
   "id": "c32a6fad",
   "metadata": {},
   "outputs": [
    {
     "name": "stdout",
     "output_type": "stream",
     "text": [
      "Enter marks:39.999\n",
      "Sorry! You have failed the exam\n"
     ]
    }
   ],
   "source": [
    "a=float(input(\"Enter marks:\"))\n",
    "if(a>=40):\n",
    "    print(\"Congratulation! You have passed the exam\")\n",
    "else:\n",
    "    print(\"Sorry! You have failed the exam\")"
   ]
  },
  {
   "cell_type": "code",
   "execution_count": 3,
   "id": "2c31c984",
   "metadata": {},
   "outputs": [
    {
     "name": "stdout",
     "output_type": "stream",
     "text": [
      "Enter a number:78\n",
      "Even\n"
     ]
    }
   ],
   "source": [
    "rahul_age = int(input(\"Enter Rahul's age: \"))\n",
    "ayush_age = int(input(\"Enter Ayush's age: \"))\n",
    "ajay_age = int(input(\"Enter Ajay's age: \"))\n",
    "\n",
    "if rahul_age > ayush_age and rahul_age > ajay_age:\n",
    "    print(\"Rahul is the eldest.\")\n",
    "elif ayush_age > rahul_age and ayush_age > ajay_age:\n",
    "    print(\"Ayush is the eldest.\")\n",
    "elif ajay_age > rahul_age and ajay_age > ayush_age:\n",
    "    print(\"Ajay is the eldest.\")\n",
    "else:\n",
    "    print(\"There is a tie in ages.\")\n",
    "\n",
    "if(a%2==0):\n",
    "    print(\"Even\")\n",
    "else:\n",
    "    print(\"Odd\")"
   ]
  },
  {
   "cell_type": "code",
   "execution_count": 4,
   "id": "1187db66",
   "metadata": {},
   "outputs": [
    {
     "name": "stdout",
     "output_type": "stream",
     "text": [
      "Enter marks:$\n",
      "36\n"
     ]
    }
   ],
   "source": [
    "a=(input(\"Enter Ascii:\"))\n",
    "o=ord(a)\n",
    "if(65<=o<=90):\n",
    "     print(\"Cap\")\n",
    "elif(97<=o<=122):\n",
    "     print(\"Small\")\n",
    "elif(48<=o<=57):\n",
    "     print(\"Num\")\n",
    "else:\n",
    "     print(\"Special\")"
   ]
  },
  {
   "cell_type": "code",
   "execution_count": 8,
   "id": "7fd68726",
   "metadata": {},
   "outputs": [
    {
     "name": "stdout",
     "output_type": "stream",
     "text": [
      "Enter coefficient a: 1\n",
      "Enter coefficient b: 3\n",
      "Enter coefficient c: 1\n",
      "The equation has two real roots: r1 = -0.38, r2 = -2.62\n"
     ]
    }
   ],
   "source": [
    "import math\n",
    "a = float(input(\"Enter coefficient a: \"))\n",
    "b = float(input(\"Enter coefficient b: \"))\n",
    "c = float(input(\"Enter coefficient c: \"))\n",
    "\n",
    "if a == 0:\n",
    "    print(\"Coefficient 'a' cannot be zero for a quadratic equation.\")\n",
    "else:\n",
    "    discriminant = b**2 - 4*a*c\n",
    "    if discriminant > 0:\n",
    "        r1 = (-b + math.sqrt(discriminant)) / (2 * a)\n",
    "        r2 = (-b - math.sqrt(discriminant)) / (2 * a)\n",
    "        print(f\"The equation has two real roots: r1 = {r1:.2f}, r2 = {r2:.2f}\")\n",
    "    elif discriminant == 0:\n",
    "        r = -b / (2 * a)\n",
    "        print(f\"The equation has one real root: r = {r:.2f}\")\n",
    "    else:\n",
    "        print(\"The equation has no real roots\")\n"
   ]
  },
  {
   "cell_type": "code",
   "execution_count": 9,
   "id": "8e9ccc91",
   "metadata": {},
   "outputs": [
    {
     "name": "stdout",
     "output_type": "stream",
     "text": [
      "Enter coefficient a: 9\n",
      "Enter coefficient b: 4\n",
      "Enter coefficient c: 3\n",
      "Enter coefficient d: -5\n",
      "Enter coefficient e: -6\n",
      "Enter coefficient f: -21\n",
      "The solution is: x = -2.0, y = 3.0\n"
     ]
    }
   ],
   "source": [
    "a = float(input(\"Enter coefficient a: \"))\n",
    "b = float(input(\"Enter coefficient b: \"))\n",
    "c = float(input(\"Enter coefficient c: \"))\n",
    "d = float(input(\"Enter coefficient d: \"))\n",
    "e = float(input(\"Enter coefficient e: \"))\n",
    "f = float(input(\"Enter coefficient f: \"))\n",
    "\n",
    "det = a * d - b * c\n",
    "\n",
    "if det == 0:\n",
    "    print(\"The equation has no solution.\")\n",
    "else:\n",
    "    x = (e * d - b * f) / det\n",
    "    y = (a * f - e * c) / det\n",
    "    print(f\"The solution is: x = {x}, y = {y}\")\n"
   ]
  },
  {
   "cell_type": "code",
   "execution_count": 10,
   "id": "0c76f2f0",
   "metadata": {},
   "outputs": [
    {
     "name": "stdout",
     "output_type": "stream",
     "text": [
      "Enter the x-coordinate: -1\n",
      "Enter the y-coordinate: -2.5\n",
      "The point is in Quadrant III.\n"
     ]
    }
   ],
   "source": [
    "x = float(input(\"Enter the x-coordinate: \"))\n",
    "y = float(input(\"Enter the y-coordinate: \"))\n",
    "\n",
    "if x == 0 and y == 0:\n",
    "    print(\"The point is at the origin.\")\n",
    "elif x == 0:\n",
    "    print(\"The point lies on the y-axis.\")\n",
    "elif y == 0:\n",
    "    print(\"The point lies on the x-axis.\")\n",
    "elif x > 0 and y > 0:\n",
    "    print(\"The point is in Quadrant I.\")\n",
    "elif x < 0 and y > 0:\n",
    "    print(\"The point is in Quadrant II.\")\n",
    "elif x < 0 and y < 0:\n",
    "    print(\"The point is in Quadrant III.\")\n",
    "else:\n",
    "    print(\"The point is in Quadrant IV.\")\n"
   ]
  },
  {
   "cell_type": "code",
   "execution_count": 11,
   "id": "c77d292b",
   "metadata": {},
   "outputs": [
    {
     "name": "stdout",
     "output_type": "stream",
     "text": [
      "Enter Rahul's age: 32\n",
      "Enter Ayush's age: 45\n",
      "Enter Ajay's age: 23\n",
      "Ayush is the eldest.\n"
     ]
    }
   ],
   "source": [
    "rahul_age = int(input(\"Enter Rahul's age: \"))\n",
    "ayush_age = int(input(\"Enter Ayush's age: \"))\n",
    "ajay_age = int(input(\"Enter Ajay's age: \"))\n",
    "\n",
    "if rahul_age > ayush_age and rahul_age > ajay_age:\n",
    "    print(\"Rahul is the eldest.\")\n",
    "elif ayush_age > rahul_age and ayush_age > ajay_age:\n",
    "    print(\"Ayush is the eldest.\")\n",
    "elif ajay_age > rahul_age and ajay_age > ayush_age:\n",
    "    print(\"Ajay is the eldest.\")\n",
    "else:\n",
    "    print(\"There is a tie in ages.\")\n"
   ]
  },
  {
   "cell_type": "code",
   "execution_count": 11,
   "id": "ef24e1de",
   "metadata": {},
   "outputs": [
    {
     "name": "stdout",
     "output_type": "stream",
     "text": [
      "DEC\n"
     ]
    }
   ],
   "source": [
    "import random\n",
    "a=random.randint(1,12)\n",
    "match(a):\n",
    "    case 1:{print(\"January\")\n",
    "           }\n",
    "    case 2:print(\"Feb\")\n",
    "              \n",
    "    case 3:print(\"MaR\")\n",
    "              \n",
    "    case 4:print(\"APR\")\n",
    "             \n",
    "    case 5:print(\"MAy\")\n",
    "             \n",
    "    case 6:print(\"Jun\")\n",
    "            \n",
    "    case 7:print(\"JULY\")\n",
    "             \n",
    "    case 8:print(\"Aug\")\n",
    "             \n",
    "    case 9:print(\"SEP\")\n",
    "              \n",
    "    case 10:print(\"OCT\")     \n",
    "            \n",
    "    case 11:print(\"NOV\")\n",
    "             \n",
    "    case 12:print(\"DEC\")\n",
    "             \n",
    "    case _:print(\"Wrong input\")\n"
   ]
  },
  {
   "cell_type": "code",
   "execution_count": 7,
   "id": "68e9bd71",
   "metadata": {},
   "outputs": [
    {
     "name": "stdout",
     "output_type": "stream",
     "text": [
      "Enter today's day of the week  : 5\n",
      "Enter the number of days after today: 7\n",
      "The future day of the week is: Friday\n"
     ]
    }
   ],
   "source": [
    "today = int(input(\"Enter today's day of the week  : \"))\n",
    "days_ahead = int(input(\"Enter the number of days after today: \"))\n",
    "\n",
    "f = (today + days_ahead) % 7\n",
    "\n",
    "if f == 0:\n",
    "    print(\"The future day of the week is: Sunday\")\n",
    "elif f == 1:\n",
    "    print(\"The future day of the week is: Monday\")\n",
    "elif f == 2:\n",
    "    print(\"The future day of the week is: Tuesday\")\n",
    "elif f == 3:\n",
    "    print(\"The future day of the week is: Wednesday\")\n",
    "elif f == 4:\n",
    "    print(\"The future day of the week is: Thursday\")\n",
    "elif f == 5:\n",
    "    print(\"The future day of the week is: Friday\")\n",
    "elif f == 6:\n",
    "    print(\"The future day of the week is: Saturday\")\n"
   ]
  },
  {
   "cell_type": "code",
   "execution_count": 9,
   "id": "a12825eb",
   "metadata": {},
   "outputs": [
    {
     "name": "stdout",
     "output_type": "stream",
     "text": [
      "Enter your weight in kilograms: 78\n",
      "Enter your height in meters: 3\n",
      "Under\n"
     ]
    }
   ],
   "source": [
    "weight = float(input(\"Enter your weight in kilograms: \"))\n",
    "height = float(input(\"Enter your height in meters: \"))\n",
    "\n",
    "bmi = weight / (height ** 2)\n",
    "if bmi<18.5:\n",
    "    print(\"Under\")\n",
    "elif 18.5<bmi<24.9:\n",
    "    print(\"normal\")\n",
    "elif 25.0<bmi<29.9:\n",
    "    print(\"Over\")\n",
    "else:\n",
    "    print(\"obese\")"
   ]
  },
  {
   "cell_type": "code",
   "execution_count": 20,
   "id": "ea65cbef",
   "metadata": {},
   "outputs": [
    {
     "name": "stdout",
     "output_type": "stream",
     "text": [
      "Enter numb:2\n",
      "Year:1999\n",
      "Feb 1999 has 28 days\n"
     ]
    }
   ],
   "source": [
    "import sys\n",
    "a=float(input(\"Enter numb:\"))\n",
    "b=int(input(\"Year:\"))\n",
    "if(b%4==0 and b%100!=0 and a==2):\n",
    "    print(f\"Feb {b} has 29 days\")\n",
    "    sys.exit()\n",
    "match(a):\n",
    "    case 1:{print(f\"January {b} has 31 days\")\n",
    "           }\n",
    "    case 2:print(f\"Feb {b} has 28 days\")\n",
    "              \n",
    "    case 3:print(f\"MaR {b} has 31 days\")\n",
    "              \n",
    "    case 4:print(f\"APR {b} has 30 days\")\n",
    "             \n",
    "    case 5:print(f\"MAy {b} has 31 days\")\n",
    "             \n",
    "    case 6:print(f\"Jun {b} has 30 days\")\n",
    "            \n",
    "    case 7:print(f\"JULY {b} has 31 days\")\n",
    "             \n",
    "    case 8:print(f\"Aug {b} has 31 days\")\n",
    "             \n",
    "    case 9:print(f\"SEP {b} has 30 days\")\n",
    "              \n",
    "    case 10:print(f\"OCT {b} has 31 days\")     \n",
    "            \n",
    "    case 11:print(f\"NOV {b} has 30 days\")\n",
    "             \n",
    "    case 12:print(f\"DEC {b} has 31 days\")\n",
    "             \n",
    "    case _:print(\"Wrong input\")\n"
   ]
  },
  {
   "cell_type": "code",
   "execution_count": 17,
   "id": "a7236c0e",
   "metadata": {},
   "outputs": [
    {
     "name": "stdout",
     "output_type": "stream",
     "text": [
      "Enter the first integer: 2\n",
      "Enter the second integer: 4\n",
      "Enter the third integer: 3\n",
      "The integers in non-decreasing order are: [2, 3, 4]\n"
     ]
    }
   ],
   "source": [
    "num1 = int(input(\"Enter the first integer: \"))\n",
    "num2 = int(input(\"Enter the second integer: \"))\n",
    "num3 = int(input(\"Enter the third integer: \"))\n",
    "\n",
    "numbers = [num1, num2, num3]\n",
    "numbers.sort()\n",
    "\n",
    "print(\"The integers in non-decreasing order are:\", numbers)\n"
   ]
  },
  {
   "cell_type": "code",
   "execution_count": 21,
   "id": "b579f26d",
   "metadata": {},
   "outputs": [
    {
     "name": "stdout",
     "output_type": "stream",
     "text": [
      "Enter 0.scissor,1.rock, and 2.paper2\n",
      "It is a draw.\n"
     ]
    }
   ],
   "source": [
    "import random\n",
    "a=random.randint(0,2)\n",
    "b=int(input(\"Enter 0.scissor,1.rock, and 2.paper\"))\n",
    "if b == a:\n",
    "    print(\"It is a draw.\")\n",
    "elif (b == 0 and a == 1) or (b == 1 and a == 2) or (b== 2 and a == 0):\n",
    "    print(\"You lost.\")\n",
    "else:\n",
    "    print(\"You won.\")"
   ]
  },
  {
   "cell_type": "code",
   "execution_count": 23,
   "id": "9dae983e",
   "metadata": {},
   "outputs": [
    {
     "name": "stdout",
     "output_type": "stream",
     "text": [
      "Enter the x-coordinate: 9\n",
      "Enter the y-coordinate: 9\n",
      "Not\n"
     ]
    }
   ],
   "source": [
    "x2 = float(input(\"Enter the x-coordinate: \"))\n",
    "y2 = float(input(\"Enter the y-coordinate: \"))\n",
    "x1=y1=0\n",
    "d=((x2-x1)**2+(y2-y1)**2)**0.5\n",
    "if(d<=10):\n",
    "    print(\"inside\")\n",
    "else:\n",
    "    print(\"Not\")"
   ]
  },
  {
   "cell_type": "code",
   "execution_count": 24,
   "id": "e3b2a1a7",
   "metadata": {},
   "outputs": [
    {
     "name": "stdout",
     "output_type": "stream",
     "text": [
      "Enter marks : 80\n",
      "A\n"
     ]
    }
   ],
   "source": [
    "m= int(input(\"Enter marks : \"))\n",
    "if m>=90:\n",
    "    print(\"O\")\n",
    "elif 80<=m<90:\n",
    "    print(\"A\")\n",
    "elif 70<=m<80:\n",
    "    print(\"B\")\n",
    "elif 60<=m<70:\n",
    "    print(\"C\")\n",
    "elif 50<=m<60:\n",
    "    print(\"D\")\n",
    "elif 40<=m<50:\n",
    "    print(\"E\")\n",
    "else:\n",
    "    print(\"fail\")\n"
   ]
  },
  {
   "cell_type": "code",
   "execution_count": 26,
   "id": "9d5af5c5",
   "metadata": {},
   "outputs": [
    {
     "name": "stdout",
     "output_type": "stream",
     "text": [
      "Enter an integer: 10\n",
      "Is 10 divisible by 5 and 6? False\n",
      "Is 10 divisible by 5 or 6? True\n",
      "Is 10 divisible by 5 or 6, but not both? True\n"
     ]
    }
   ],
   "source": [
    "num = int(input(\"Enter an integer: \"))\n",
    "\n",
    "d5 = (num % 5 == 0)\n",
    "d6 = (num % 6 == 0)\n",
    "\n",
    "print(f\"Is {num} divisible by 5 and 6? {d5 and d6}\")\n",
    "print(f\"Is {num} divisible by 5 or 6? {d5 or d6}\")\n",
    "print(f\"Is {num} divisible by 5 or 6, but not both? {d5 != d6}\")\n"
   ]
  },
  {
   "cell_type": "code",
   "execution_count": 27,
   "id": "8c1de733",
   "metadata": {},
   "outputs": [
    {
     "name": "stdout",
     "output_type": "stream",
     "text": [
      "What is your gender (M or F): M\n",
      "First name: Ashok\n",
      "Last name: Mohanty\n",
      "Age: 23\n",
      "Then I shall call you Mr. Ashok.\n"
     ]
    }
   ],
   "source": [
    "gender = input(\"What is your gender (M or F): \").strip().upper()\n",
    "first_name = input(\"First name: \").strip()\n",
    "last_name = input(\"Last name: \").strip()\n",
    "age = int(input(\"Age: \"))\n",
    "\n",
    "if gender == 'F':\n",
    "    if age >= 20:\n",
    "        married = input(f\"Are you married, {first_name} (y or n)? \").strip().lower()\n",
    "        if married == 'y':\n",
    "            title = \"Mrs.\"\n",
    "        else:\n",
    "            title = \"Ms.\"\n",
    "        print(f\"Then I shall call you {title} {first_name} {last_name}.\")\n",
    "    else:\n",
    "        print(f\"Then I shall call you {first_name} {last_name}.\")\n",
    "elif gender == 'M':\n",
    "    if age >= 20:\n",
    "        print(f\"Then I shall call you Mr. {first_name}.\")\n",
    "    else:\n",
    "        print(f\"Then I shall call you {first_name} {last_name}.\")\n",
    "else:\n",
    "    print(\"Invalid gender input.\")\n"
   ]
  },
  {
   "cell_type": "code",
   "execution_count": null,
   "id": "b4ffd2d3",
   "metadata": {},
   "outputs": [],
   "source": []
  }
 ],
 "metadata": {
  "kernelspec": {
   "display_name": "Python 3 (ipykernel)",
   "language": "python",
   "name": "python3"
  },
  "language_info": {
   "codemirror_mode": {
    "name": "ipython",
    "version": 3
   },
   "file_extension": ".py",
   "mimetype": "text/x-python",
   "name": "python",
   "nbconvert_exporter": "python",
   "pygments_lexer": "ipython3",
   "version": "3.11.4"
  }
 },
 "nbformat": 4,
 "nbformat_minor": 5
}
