{
 "cells": [
  {
   "cell_type": "code",
   "execution_count": 13,
   "id": "b9b1bbf7",
   "metadata": {},
   "outputs": [
    {
     "name": "stdout",
     "output_type": "stream",
     "text": [
      "[1, 2, 3] [4, 5]\n"
     ]
    }
   ],
   "source": [
    "list1=list([1,2,3])\n",
    "list2=[4,5]\n",
    "print(list1,list2)"
   ]
  },
  {
   "cell_type": "code",
   "execution_count": 14,
   "id": "9b4e1d9f",
   "metadata": {},
   "outputs": [
    {
     "name": "stdout",
     "output_type": "stream",
     "text": [
      "[1, 2, 3, 3]\n"
     ]
    }
   ],
   "source": [
    "list1.append(3)\n",
    "print(list1)"
   ]
  },
  {
   "cell_type": "code",
   "execution_count": 15,
   "id": "689216d8",
   "metadata": {},
   "outputs": [
    {
     "name": "stdout",
     "output_type": "stream",
     "text": [
      "[1, 2, 3, 3, 5, 6]\n"
     ]
    }
   ],
   "source": [
    "list1.extend([5,6])\n",
    "print(list1)"
   ]
  },
  {
   "cell_type": "code",
   "execution_count": 16,
   "id": "721e5a66",
   "metadata": {},
   "outputs": [
    {
     "name": "stdout",
     "output_type": "stream",
     "text": [
      "[1, 2, 3, 3, 5, 6, 10]\n"
     ]
    }
   ],
   "source": [
    "list1.insert(9,10)\n",
    "print(list1)"
   ]
  },
  {
   "cell_type": "code",
   "execution_count": 17,
   "id": "93bcc14e",
   "metadata": {},
   "outputs": [
    {
     "name": "stdout",
     "output_type": "stream",
     "text": [
      "[1, 2, 3, 3, 5, 6]\n"
     ]
    }
   ],
   "source": [
    "list1.remove(10)\n",
    "print(list1)"
   ]
  },
  {
   "cell_type": "code",
   "execution_count": 18,
   "id": "9833248b",
   "metadata": {},
   "outputs": [
    {
     "name": "stdout",
     "output_type": "stream",
     "text": [
      "[1, 2, 3, 3, 5]\n"
     ]
    }
   ],
   "source": [
    "list1.pop()\n",
    "print(list1)"
   ]
  },
  {
   "cell_type": "code",
   "execution_count": 19,
   "id": "47da8d82",
   "metadata": {},
   "outputs": [
    {
     "name": "stdout",
     "output_type": "stream",
     "text": [
      "[1, 2, 3, 5]\n"
     ]
    }
   ],
   "source": [
    "list1.pop(2)\n",
    "print(list1)"
   ]
  },
  {
   "cell_type": "code",
   "execution_count": 20,
   "id": "9ead0347",
   "metadata": {},
   "outputs": [
    {
     "name": "stdout",
     "output_type": "stream",
     "text": [
      "[]\n"
     ]
    }
   ],
   "source": [
    "list1.clear()\n",
    "print(list1)"
   ]
  },
  {
   "cell_type": "code",
   "execution_count": 24,
   "id": "5fe08036",
   "metadata": {},
   "outputs": [
    {
     "name": "stdout",
     "output_type": "stream",
     "text": [
      "0\n"
     ]
    }
   ],
   "source": [
    "\n",
    "print(list2.index(4))"
   ]
  },
  {
   "cell_type": "code",
   "execution_count": 26,
   "id": "877b2a1f",
   "metadata": {},
   "outputs": [
    {
     "data": {
      "text/plain": [
       "1"
      ]
     },
     "execution_count": 26,
     "metadata": {},
     "output_type": "execute_result"
    }
   ],
   "source": [
    "list2.count(5)"
   ]
  },
  {
   "cell_type": "code",
   "execution_count": 27,
   "id": "0d4d73d8",
   "metadata": {},
   "outputs": [
    {
     "name": "stdout",
     "output_type": "stream",
     "text": [
      "[1, 4, 4, 5, 6, 7, 12, 56]\n"
     ]
    }
   ],
   "source": [
    "list1=[12,4,56,6,7,1,5,4]\n",
    "list1.sort()\n",
    "print(list1)"
   ]
  },
  {
   "cell_type": "code",
   "execution_count": 29,
   "id": "8c326007",
   "metadata": {},
   "outputs": [
    {
     "name": "stdout",
     "output_type": "stream",
     "text": [
      "[56, 12, 7, 6, 5, 4, 4, 1]\n"
     ]
    }
   ],
   "source": [
    "list1=[12,4,56,6,7,1,5,4]\n",
    "list1.sort(reverse=True)\n",
    "print(list1)"
   ]
  },
  {
   "cell_type": "code",
   "execution_count": 30,
   "id": "65025533",
   "metadata": {},
   "outputs": [
    {
     "name": "stdout",
     "output_type": "stream",
     "text": [
      "[1, 4, 4, 5, 6, 7, 12, 56]\n"
     ]
    }
   ],
   "source": [
    "list1.reverse()\n",
    "print(list1)"
   ]
  },
  {
   "cell_type": "code",
   "execution_count": 31,
   "id": "9e40e5ba",
   "metadata": {},
   "outputs": [
    {
     "name": "stdout",
     "output_type": "stream",
     "text": [
      "[1, 4, 4, 5, 6, 7, 12, 56]\n"
     ]
    }
   ],
   "source": [
    "list2=list1.copy()\n",
    "print(list2)"
   ]
  },
  {
   "cell_type": "code",
   "execution_count": 32,
   "id": "c53cc4e3",
   "metadata": {},
   "outputs": [
    {
     "name": "stdout",
     "output_type": "stream",
     "text": [
      "True\n"
     ]
    }
   ],
   "source": [
    "print(1 in list1)\n"
   ]
  },
  {
   "cell_type": "code",
   "execution_count": 41,
   "id": "737106f4",
   "metadata": {},
   "outputs": [
    {
     "name": "stdout",
     "output_type": "stream",
     "text": [
      "[1, 2, 3] [4, 5]\n",
      "[1, 2, 3, 3]\n",
      "[1, 2, 3, 3, 5, 6]\n",
      "[1, 2, 3, 3, 5, 6, 10]\n",
      "[1, 2, 3, 3, 5, 6]\n",
      "[1, 2, 3, 3, 5]\n",
      "[1, 2, 3, 5]\n",
      "[]\n",
      "0\n",
      "[1, 4, 4, 5, 6, 7, 12, 56]\n",
      "[56, 12, 7, 6, 5, 4, 4, 1]\n",
      "[1, 4, 4, 5, 6, 7, 12, 56]\n",
      "[1, 4, 4, 5, 6, 7, 12, 56]\n",
      "True\n",
      "56\n",
      "1\n",
      "8\n",
      "[1, 4, 4, 5, 6, 7, 12, 56, 1, 4, 4, 5, 6, 7, 12, 56]\n",
      "95\n"
     ]
    }
   ],
   "source": [
    "list1=list([1,2,3])\n",
    "list2=[4,5]\n",
    "print(list1,list2)\n",
    "\n",
    "list1.append(3)\n",
    "print(list1)\n",
    "\n",
    "list1.extend([5,6])\n",
    "print(list1)\n",
    "\n",
    "list1.insert(9,10)\n",
    "print(list1)\n",
    "\n",
    "list1.remove(10)\n",
    "print(list1)\n",
    "\n",
    "list1.pop()\n",
    "print(list1)\n",
    "\n",
    "list1.pop(2)\n",
    "print(list1)\n",
    "\n",
    "list1.clear()\n",
    "print(list1)\n",
    "\n",
    "print(list2.index(4))\n",
    "\n",
    "list2.count(5)\n",
    "list1=[12,4,56,6,7,1,5,4]\n",
    "list1.sort()\n",
    "print(list1)\n",
    "\n",
    "list1=[12,4,56,6,7,1,5,4]\n",
    "list1.sort(reverse=True)\n",
    "\n",
    "print(list1)\n",
    "list1.reverse()\n",
    "\n",
    "print(list1)\n",
    "list2=list1.copy()\n",
    "print(list2)\n",
    "\n",
    "print(1 in list1)\n",
    "\n",
    "print(max(list1))\n",
    "\n",
    "print(min(list1))\n",
    "\n",
    "print(len(list1))\n",
    "\n",
    "print(list1+list2)\n",
    "\n",
    "sum=0\n",
    "for i in list2:\n",
    "    sum=sum+i\n",
    "print(sum)\n"
   ]
  },
  {
   "cell_type": "code",
   "execution_count": 4,
   "id": "ef7287ed",
   "metadata": {},
   "outputs": [
    {
     "name": "stdout",
     "output_type": "stream",
     "text": [
      "(1, 3, 5) \n",
      " (1, 3, 5)\n",
      "5\n",
      "1\n",
      "1\n",
      "(1, 3, 5, 4, 5)\n",
      "(1, 3, 5, 1, 3, 5)\n",
      "True\n",
      "3 \tmax 5 \tmin 1 \t\n",
      "9\n"
     ]
    }
   ],
   "source": [
    "t1=tuple([1,3,5])#Immutable and hetrogeneous\n",
    "t2=(1,3,5)\n",
    "print(t1,\"\\n\",t2)\n",
    "\n",
    "print(t1[2])\n",
    "\n",
    "print(t1.index(3))\n",
    "\n",
    "print(t1.count(1))\n",
    "\n",
    "print(t1+(4,5))\n",
    "\n",
    "print(t1*2)\n",
    "\n",
    "print(1 in t1)\n",
    "\n",
    "print(len(t1),\"\\tmax\",max(t1),\"\\tmin\",min(t1),\"\\t\")\n",
    "n=sum(t1)\n",
    "print(n)"
   ]
  },
  {
   "cell_type": "code",
   "execution_count": 25,
   "id": "305500aa",
   "metadata": {},
   "outputs": [
    {
     "name": "stdout",
     "output_type": "stream",
     "text": [
      "[3, 4, 5, 6]\n",
      "[3, 4, 5, 6, 7, 8, 9]\n",
      "[1, 2, 3]\n",
      "[1, 2, 3, 4, 5, 6, 7, 8, 9]\n",
      "[3, 5]\n",
      "[9, 7, 5, 3, 1]\n",
      "String:m\n",
      "palin\n",
      "\n",
      "[2, 4, 6, 8, 10, 12, 14, 16, 18]\n"
     ]
    }
   ],
   "source": [
    "#Slicing\n",
    "l1=[1,2,3,4,5,6,7,8,9]\n",
    "print(l1[2:6])\n",
    "print(l1[2:])\n",
    "print(l1[:3])\n",
    "print(l1[:])\n",
    "print(l1[2:6:2])\n",
    "print(l1[::-2])\n",
    "\n",
    "s=input(\"String:\")\n",
    "s=s.lower()\n",
    "s1=s[::-1]\n",
    "if(s==s1):\n",
    "    print(\"palin\\n\")\n",
    "else:\n",
    "    print(\"not\\n\")\n",
    "    \n",
    "# del(l1[2])\n",
    "# del(l1[-1])\n",
    "# del(l1[2:4])\n",
    "\n",
    "for i in range (len(l1)):\n",
    "    l1[i]=l1[i]*2\n",
    "print(l1)"
   ]
  },
  {
   "cell_type": "code",
   "execution_count": null,
   "id": "02d26a02",
   "metadata": {},
   "outputs": [],
   "source": []
  }
 ],
 "metadata": {
  "kernelspec": {
   "display_name": "Python 3 (ipykernel)",
   "language": "python",
   "name": "python3"
  },
  "language_info": {
   "codemirror_mode": {
    "name": "ipython",
    "version": 3
   },
   "file_extension": ".py",
   "mimetype": "text/x-python",
   "name": "python",
   "nbconvert_exporter": "python",
   "pygments_lexer": "ipython3",
   "version": "3.11.4"
  }
 },
 "nbformat": 4,
 "nbformat_minor": 5
}
