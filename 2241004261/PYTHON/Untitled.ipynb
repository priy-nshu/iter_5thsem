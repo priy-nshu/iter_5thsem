{
 "cells": [
  {
   "cell_type": "code",
   "execution_count": 1,
   "id": "22f142fb",
   "metadata": {},
   "outputs": [
    {
     "name": "stdout",
     "output_type": "stream",
     "text": [
      "a= 7 \n",
      "b= 7\n"
     ]
    }
   ],
   "source": [
    "a=b=7\n",
    "print('a=',a,'\\nb=',b)"
   ]
  },
  {
   "cell_type": "code",
   "execution_count": 3,
   "id": "6f79e6be",
   "metadata": {},
   "outputs": [
    {
     "name": "stdout",
     "output_type": "stream",
     "text": [
      ">>>>>>>>>>\n",
      "<<<<<<<<<<\n",
      ">>>>>>>>>>\n",
      "<<<<<<<<<<\n",
      ">>>>>>>>>>\n",
      "<<<<<<<<<<\n",
      ">>>>>>>>>>\n",
      "<<<<<<<<<<\n",
      ">>>>>>>>>>\n",
      "<<<<<<<<<<\n"
     ]
    }
   ],
   "source": [
    "for row in range(10):\n",
    "    for column in range(10):\n",
    "        print('<' if row%2==1 else'>',end='')\n",
    "    print()"
   ]
  },
  {
   "cell_type": "code",
   "execution_count": 8,
   "id": "ac27de0b",
   "metadata": {},
   "outputs": [
    {
     "name": "stdout",
     "output_type": "stream",
     "text": [
      "@@@@@@@\n",
      "@@@@@@@\n"
     ]
    }
   ],
   "source": [
    "for row in range(2):\n",
    "    for c in range(7):\n",
    "        print('@',end='')\n",
    "    print()"
   ]
  },
  {
   "cell_type": "code",
   "execution_count": 26,
   "id": "a6c8d0a4",
   "metadata": {},
   "outputs": [
    {
     "name": "stdout",
     "output_type": "stream",
     "text": [
      " number square   cube\n",
      "      0      0      0\n",
      "      1      1      1\n",
      "      2      4      8\n",
      "      3      9     27\n",
      "      4     16     64\n",
      "      5     25    125\n"
     ]
    }
   ],
   "source": [
    "print(f'{\"number\":>7}{\"square\":>7}{\"cube\":>7}')\n",
    "for r in range(6):\n",
    "        print(f'{r:>7}{(r*r):>7}{(r*r*r):>7}')"
   ]
  },
  {
   "cell_type": "code",
   "execution_count": 44,
   "id": "a3966143",
   "metadata": {},
   "outputs": [
    {
     "name": "stdout",
     "output_type": "stream",
     "text": [
      "Enter a 5 digit number121\n",
      "Palindrome\n"
     ]
    }
   ],
   "source": [
    "a=int(input(\"Enter a 5 digit number\"))\n",
    "b=a\n",
    "s=0\n",
    "while(a>0):\n",
    "    s=(s*10)+(a%10)\n",
    "    a=a//10\n",
    "if(s==b):\n",
    "    print(\"Palindrome\")\n",
    "else:\n",
    "    print(\"Not\")"
   ]
  },
  {
   "cell_type": "code",
   "execution_count": 4,
   "id": "089a30c9",
   "metadata": {},
   "outputs": [
    {
     "name": "stdout",
     "output_type": "stream",
     "text": [
      "Enter limit 1000000\n",
      "value is  1221 3.1399533104289095\n"
     ]
    }
   ],
   "source": [
    "pi=0;\n",
    "s = 1;\n",
    "c=1;\n",
    "n=int(input(\"Enter limit \"))\n",
    "while(c<=n):\n",
    "    pi=pi+s*4/c\n",
    "    c=c+2\n",
    "    s=s*-1\n",
    "    if round(pi,4)==3.14:\n",
    "        print(\"value is \",c,pi)\n",
    "        break"
   ]
  },
  {
   "cell_type": "code",
   "execution_count": 8,
   "id": "a4ac0af5",
   "metadata": {},
   "outputs": [
    {
     "name": "stdout",
     "output_type": "stream",
     "text": [
      "Enter Limit 11\n",
      "Sum= 2.7182818011463845\n"
     ]
    }
   ],
   "source": [
    "import math\n",
    "n=int(input(\"Enter Limit \"))\n",
    "s=1\n",
    "for i in range(1,n):\n",
    "    s=s+(1/math.factorial(i))\n",
    "print(\"Sum=\",s)\n"
   ]
  },
  {
   "cell_type": "code",
   "execution_count": 13,
   "id": "8210148d",
   "metadata": {},
   "outputs": [
    {
     "name": "stdout",
     "output_type": "stream",
     "text": [
      "\n",
      "*\n",
      "**\n",
      "***\n",
      "****\n",
      "*****\n",
      "******\n",
      "*******\n",
      "********\n",
      "*********\n"
     ]
    }
   ],
   "source": [
    "for i in range(10):\n",
    "    for j in range(i):\n",
    "        print('*',end='')\n",
    "    print()"
   ]
  },
  {
   "cell_type": "code",
   "execution_count": 7,
   "id": "8cb94a1e",
   "metadata": {},
   "outputs": [
    {
     "name": "stdout",
     "output_type": "stream",
     "text": [
      "*********\n",
      "********\n",
      "*******\n",
      "******\n",
      "*****\n",
      "****\n",
      "***\n",
      "**\n",
      "*\n",
      "\n"
     ]
    }
   ],
   "source": [
    "for i in range(10,0,-1):\n",
    "    for j in range(1,i):\n",
    "        print('*',end='')\n",
    "    print()"
   ]
  },
  {
   "cell_type": "code",
   "execution_count": 36,
   "id": "8604fede",
   "metadata": {},
   "outputs": [
    {
     "name": "stdout",
     "output_type": "stream",
     "text": [
      "***********\n",
      " **********\n",
      "  *********\n",
      "   ********\n",
      "    *******\n",
      "     ******\n",
      "      *****\n",
      "       ****\n",
      "        ***\n",
      "         **\n",
      "          *\n",
      "\n"
     ]
    }
   ],
   "source": [
    "for e in range (11,0,-1):\n",
    "    print((11-e) * ' ' + e * '*')\n",
    "\n",
    "print ('')"
   ]
  },
  {
   "cell_type": "code",
   "execution_count": 37,
   "id": "85f26f93",
   "metadata": {},
   "outputs": [
    {
     "name": "stdout",
     "output_type": "stream",
     "text": [
      "           \n",
      "          *\n",
      "         **\n",
      "        ***\n",
      "       ****\n",
      "      *****\n",
      "     ******\n",
      "    *******\n",
      "   ********\n",
      "  *********\n",
      " **********\n"
     ]
    }
   ],
   "source": [
    "for g in range (11,0,-1):\n",
    "    print(g * ' ' + (11-g) * '*')"
   ]
  },
  {
   "cell_type": "code",
   "execution_count": 38,
   "id": "bb0890b6",
   "metadata": {},
   "outputs": [
    {
     "name": "stdout",
     "output_type": "stream",
     "text": [
      "Enter number 1: 5\n",
      "Enter number 2: 6\n",
      "Enter number 3: 7\n",
      "Enter number 4: 8\n",
      "Enter number 5: 9\n",
      "Enter number 6: 10\n",
      "Enter number 7: 11\n",
      "Enter number 8: 12\n",
      "Enter number 9: 13\n",
      "Enter number 10: 14\n",
      "The largest number is: 14.0\n",
      "The second largest number is: 13.0\n"
     ]
    }
   ],
   "source": [
    "largest = second_largest = float('-inf')\n",
    "for i in range(10):\n",
    "    num = float(input(f\"Enter number {i + 1}: \"))\n",
    "    if num > largest:\n",
    "        second_largest = largest\n",
    "        largest = num\n",
    "    elif num > second_largest and num != largest:\n",
    "        second_largest = num\n",
    "print(f\"The largest number is: {largest}\")\n",
    "print(f\"The second largest number is: {second_largest}\")\n"
   ]
  },
  {
   "cell_type": "code",
   "execution_count": 44,
   "id": "1ac22736",
   "metadata": {},
   "outputs": [
    {
     "name": "stdout",
     "output_type": "stream",
     "text": [
      "Enter binary 1101\n",
      "Decimal value: 13\n"
     ]
    }
   ],
   "source": [
    "a=int(input(\"Enter binary \"))\n",
    "n=0\n",
    "s=0\n",
    "while(a>0):\n",
    "    b=a%10\n",
    "    s=s+b*(2**n)\n",
    "    n=n+1\n",
    "    a=a//10\n",
    "print(\"Decimal value:\",s)"
   ]
  },
  {
   "cell_type": "code",
   "execution_count": 45,
   "id": "37cf10f9",
   "metadata": {},
   "outputs": [
    {
     "name": "stdout",
     "output_type": "stream",
     "text": [
      "(3, 4, 5)\n",
      "(5, 12, 13)\n",
      "(6, 8, 10)\n",
      "(8, 15, 17)\n",
      "(9, 12, 15)\n",
      "(12, 16, 20)\n"
     ]
    }
   ],
   "source": [
    "for s1 in range(1, 21):\n",
    "    for s2 in range(s1, 21):  \n",
    "        for h in range(s2, 21):\n",
    "            if s1**2 + s2**2 == h**2:\n",
    "                   print((s1, s2, h))"
   ]
  },
  {
   "cell_type": "code",
   "execution_count": 57,
   "id": "d7ad7ed6",
   "metadata": {},
   "outputs": [
    {
     "name": "stdout",
     "output_type": "stream",
     "text": [
      "year\texpected\n",
      "1 \t 8.552\n",
      "2 \t 9.142088\n",
      "3 \t 9.772892072\n",
      "4 \t 10.447221624967998\n",
      "5 \t 11.16807991709079\n",
      "6 \t 11.938677431370053\n",
      "7 \t 12.762446174134586\n",
      "8 \t 13.643054960149872\n",
      "9 \t 14.584425752400213\n",
      "10 \t 15.590751129315827\n",
      "11 \t 16.666512957238616\n",
      "12 \t 17.816502351288083\n",
      "13 \t 19.04584101352696\n",
      "14 \t 20.360004043460318\n",
      "15 \t 21.76484432245908\n",
      "16 \t 23.266618580708755\n",
      "17 \t 24.87201526277766\n",
      "18 \t 26.588184315909313\n",
      "19 \t 28.422769033707056\n",
      "20 \t 30.38394009703284\n",
      "21 \t 32.48043196372811\n",
      "22 \t 34.721581769225345\n",
      "23 \t 37.11737091130189\n",
      "24 \t 39.67846950418172\n",
      "25 \t 42.41628389997025\n",
      "26 \t 45.3430074890682\n",
      "27 \t 48.47167500581391\n",
      "28 \t 51.81622058121506\n",
      "29 \t 55.3915398013189\n",
      "30 \t 59.2135560476099\n",
      "31 \t 63.29929141489498\n",
      "32 \t 67.66694252252273\n",
      "33 \t 72.33596155657679\n",
      "34 \t 77.32714290398059\n",
      "35 \t 82.66271576435524\n",
      "36 \t 88.36644315209575\n",
      "37 \t 94.46372772959036\n",
      "38 \t 100.98172494293209\n",
      "39 \t 107.94946396399439\n",
      "40 \t 115.39797697751\n",
      "41 \t 123.36043738895819\n",
      "42 \t 131.8723075687963\n",
      "43 \t 140.97149679104322\n",
      "44 \t 150.6985300696252\n",
      "45 \t 161.09672864442933\n",
      "46 \t 172.21240292089496\n",
      "47 \t 184.0950587224367\n",
      "48 \t 196.79761777428482\n",
      "49 \t 210.37665340071047\n",
      "50 \t 224.8926424853595\n",
      "51 \t 240.41023481684928\n",
      "52 \t 256.99854101921187\n",
      "53 \t 274.7314403495375\n",
      "54 \t 293.68790973365554\n",
      "55 \t 313.95237550527776\n",
      "56 \t 335.6150894151419\n",
      "57 \t 358.7725305847867\n",
      "58 \t 383.52783519513696\n",
      "59 \t 409.99125582360136\n",
      "60 \t 438.28065247542986\n",
      "61 \t 468.52201749623447\n",
      "62 \t 500.85003670347464\n",
      "63 \t 535.4086892360144\n",
      "64 \t 572.3518887932993\n",
      "65 \t 611.844169120037\n",
      "66 \t 654.0614167893194\n",
      "67 \t 699.1916545477825\n",
      "68 \t 747.4358787115794\n",
      "69 \t 799.0089543426784\n",
      "70 \t 854.1405721923231\n",
      "71 \t 913.0762716735934\n",
      "72 \t 976.0785344190713\n",
      "73 \t 1043.4279532939872\n",
      "74 \t 1115.4244820712722\n",
      "75 \t 1192.38877133419\n",
      "76 \t 1274.663596556249\n",
      "77 \t 1362.6153847186301\n",
      "78 \t 1456.6358462642156\n",
      "79 \t 1557.1437196564464\n",
      "80 \t 1664.5866363127411\n",
      "81 \t 1779.44311421832\n",
      "82 \t 1902.2246890993842\n",
      "83 \t 2033.4781926472415\n",
      "84 \t 2173.788187939901\n",
      "85 \t 2323.7795729077543\n",
      "86 \t 2484.120363438389\n",
      "87 \t 2655.524668515638\n",
      "88 \t 2838.755870643217\n",
      "89 \t 3034.6300257175985\n",
      "90 \t 3244.019497492113\n",
      "91 \t 3467.8568428190683\n",
      "92 \t 3707.138964973584\n",
      "93 \t 3962.9315535567607\n",
      "94 \t 4236.373830752177\n",
      "95 \t 4528.683625074077\n",
      "96 \t 4841.162795204188\n",
      "97 \t 5175.203028073277\n",
      "98 \t 5532.292037010333\n",
      "99 \t 5914.020187564046\n",
      "100 \t 6322.087580505965\n"
     ]
    }
   ],
   "source": [
    "p=8\n",
    "g=0.069\n",
    "print(\"year\"\"\\t\"\"expected\")\n",
    "for y in range(1,101):\n",
    "    cp=p*(1+g)**y\n",
    "    print(y,\"\\t\",cp)"
   ]
  },
  {
   "cell_type": "code",
   "execution_count": null,
   "id": "84c27778",
   "metadata": {},
   "outputs": [],
   "source": []
  }
 ],
 "metadata": {
  "kernelspec": {
   "display_name": "Python 3 (ipykernel)",
   "language": "python",
   "name": "python3"
  },
  "language_info": {
   "codemirror_mode": {
    "name": "ipython",
    "version": 3
   },
   "file_extension": ".py",
   "mimetype": "text/x-python",
   "name": "python",
   "nbconvert_exporter": "python",
   "pygments_lexer": "ipython3",
   "version": "3.11.4"
  }
 },
 "nbformat": 4,
 "nbformat_minor": 5
}
