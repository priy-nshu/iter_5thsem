{
 "cells": [
  {
   "cell_type": "code",
   "execution_count": null,
   "id": "a98acfc3",
   "metadata": {},
   "outputs": [],
   "source": [
    "n = 5 \n",
    "triangle = []\n",
    "\n",
    "for i in range(n):\n",
    "    row = [1] * (i + 1)\n",
    "    for j in range(1, i):\n",
    "        row[j] = triangle[i - 1][j - 1] + triangle[i - 1][j]\n",
    "    triangle.append(row)\n",
    "\n",
    "for row in triangle:\n",
    "    print(row)\n"
   ]
  },
  {
   "cell_type": "code",
   "execution_count": 1,
   "id": "172c0281",
   "metadata": {},
   "outputs": [
    {
     "name": "stdout",
     "output_type": "stream",
     "text": [
      "6\n",
      "6\n"
     ]
    }
   ],
   "source": [
    "a, b = 48, 18\n",
    "\n",
    "while b:\n",
    "    a, b = b, a % b\n",
    "\n",
    "print(a) \n",
    "\n",
    "while b:\n",
    "    a, b = b, a - b\n",
    "\n",
    "print(a)\n"
   ]
  },
  {
   "cell_type": "code",
   "execution_count": null,
   "id": "6419360a",
   "metadata": {},
   "outputs": [],
   "source": [
    "number = 153\n",
    "digits = str(number)\n",
    "power = len(digits)\n",
    "is_armstrong = sum(int(digit) ** power for digit in digits) == number\n",
    "\n",
    "print(is_armstrong)  \n"
   ]
  },
  {
   "cell_type": "code",
   "execution_count": null,
   "id": "f22ac97b",
   "metadata": {},
   "outputs": [],
   "source": [
    "numbers = [5, 2, 9, 1, 5, 6]\n",
    "sorted_numbers = sorted(numbers)\n",
    "\n",
    "print(sorted_numbers)  \n"
   ]
  },
  {
   "cell_type": "code",
   "execution_count": null,
   "id": "74d790de",
   "metadata": {},
   "outputs": [],
   "source": [
    "year = 2020\n",
    "is_leap_year = year % 4 == 0 and (year % 100 != 0 or year % 400 == 0)\n",
    "\n",
    "print(is_leap_year) \n"
   ]
  },
  {
   "cell_type": "code",
   "execution_count": null,
   "id": "7d8e9a8a",
   "metadata": {},
   "outputs": [],
   "source": [
    "arr = [1, 2, 3, 4, 5, 6]\n",
    "target = 4\n",
    "left, right = 0, len(arr) - 1\n",
    "found_index = -1\n",
    "\n",
    "while left <= right:\n",
    "    mid = (left + right) // 2\n",
    "    if arr[mid] == target:\n",
    "        found_index = mid\n",
    "        break\n",
    "    elif arr[mid] < target:\n",
    "        left = mid + 1\n",
    "    else:\n",
    "        right = mid - 1\n",
    "\n",
    "print(found_index) \n"
   ]
  },
  {
   "cell_type": "code",
   "execution_count": null,
   "id": "2efcacd2",
   "metadata": {},
   "outputs": [],
   "source": [
    "import random\n",
    "\n",
    "number_to_guess = random.randint(1, 100)\n",
    "attempts = 0\n",
    "\n",
    "while True:\n",
    "    guess = int(input(\"Guess a number between 1 and 100: \"))\n",
    "    attempts += 1\n",
    "    if guess < number_to_guess:\n",
    "        print(\"Too low!\")\n",
    "    elif guess > number_to_guess:\n",
    "        print(\"Too high!\")\n",
    "    else:\n",
    "        print(f\"Congratulations! You've guessed the number {number_to_guess} in {attempts} attempts.\")\n",
    "        break\n"
   ]
  }
 ],
 "metadata": {
  "kernelspec": {
   "display_name": "Python 3 (ipykernel)",
   "language": "python",
   "name": "python3"
  },
  "language_info": {
   "codemirror_mode": {
    "name": "ipython",
    "version": 3
   },
   "file_extension": ".py",
   "mimetype": "text/x-python",
   "name": "python",
   "nbconvert_exporter": "python",
   "pygments_lexer": "ipython3",
   "version": "3.11.4"
  }
 },
 "nbformat": 4,
 "nbformat_minor": 5
}
